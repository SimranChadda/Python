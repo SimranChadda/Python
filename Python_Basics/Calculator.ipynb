{
 "cells": [
  {
   "cell_type": "markdown",
   "id": "eeb9a025",
   "metadata": {},
   "source": [
    "# CALCULATOR"
   ]
  },
  {
   "cell_type": "markdown",
   "id": "65496293",
   "metadata": {},
   "source": [
    "**If you have just started with or completed core python and want to make a simple project based on python, one can easily start with making an interactive calculator. How cool isn't it?**"
   ]
  },
  {
   "cell_type": "markdown",
   "id": "819fe9ba",
   "metadata": {},
   "source": [
    "**So, here I am providing you a glimpse of how to make a calculator in python so that you can make and develop your own attractive calculator!**"
   ]
  },
  {
   "cell_type": "code",
   "execution_count": 2,
   "id": "a6b7ad91",
   "metadata": {},
   "outputs": [
    {
     "name": "stdout",
     "output_type": "stream",
     "text": [
      "Hello Welcome to my world!, I am a calculator. Kindly, enter two desired numbers\n"
     ]
    }
   ],
   "source": [
    "#printing an output statement to begin with making of a python calculator\n",
    "\n",
    "print('Hello Welcome to my world!, I am a calculator. Kindly, enter two desired numbers')"
   ]
  },
  {
   "cell_type": "code",
   "execution_count": 9,
   "id": "ba837721",
   "metadata": {},
   "outputs": [
    {
     "name": "stdout",
     "output_type": "stream",
     "text": [
      "Enter first input value:2\n",
      "Enter second input value:0\n"
     ]
    }
   ],
   "source": [
    "#take two input values and always typecast it into float not int because if you input some float value and do int typecast,\n",
    "#it will not be able to convert it into int and instead will give you an error.\n",
    "\n",
    "a= float(input('Enter first input value:'))\n",
    "b= float(input('Enter second input value:'))"
   ]
  },
  {
   "cell_type": "code",
   "execution_count": 10,
   "id": "69d45d9e",
   "metadata": {},
   "outputs": [],
   "source": [
    "#Now, for performing operations, we need to define some user-defined functions which can help in performing operations\n",
    "#It's upto you, you can take as many functions for performing as many operations\n",
    "\n",
    "def add(a,b):\n",
    "    add1= a+b\n",
    "    return add1\n",
    "    \n",
    "      \n",
    "    \n",
    "def sub(a,b):\n",
    "    sub1= a-b\n",
    "    return sub1\n",
    "\n",
    "def mul(a,b):\n",
    "    mul1= a*b\n",
    "    return mul1\n",
    "\n",
    "def div(a,b):\n",
    "    try:\n",
    "        result= a/b\n",
    "        return result\n",
    "        \n",
    "    except ZeroDivisionError:\n",
    "        print(\"Numerator cannot be divided by zero\")\n",
    "           \n",
    "    \n",
    "    "
   ]
  },
  {
   "cell_type": "code",
   "execution_count": 11,
   "id": "eabb2ebe",
   "metadata": {},
   "outputs": [
    {
     "name": "stdout",
     "output_type": "stream",
     "text": [
      "Enter your choice below for performing the operations:\n",
      " 1.Addition\n",
      " 2.Subtraction\n",
      " 3.Multiplication\n",
      " 4.Division\n"
     ]
    }
   ],
   "source": [
    "print(\"Enter your choice below for performing the operations:\\n 1.Addition\\n 2.Subtraction\\n 3.Multiplication\\n 4.Division\")"
   ]
  },
  {
   "cell_type": "code",
   "execution_count": 12,
   "id": "4d66d162",
   "metadata": {},
   "outputs": [
    {
     "name": "stdout",
     "output_type": "stream",
     "text": [
      "Enter your choice: 4\n",
      "Numerator cannot be divided by zero\n",
      "Division is:  None\n"
     ]
    }
   ],
   "source": [
    "#enter your choice for performing arithmetic operations\n",
    "\n",
    "c= int(input(\"Enter your choice: \"))\n",
    "\n",
    "if c==1:\n",
    "   \n",
    "    print(\"Addition is: \",add(a,b))\n",
    "elif c==2:\n",
    "    print(\"Subtraction is: \",sub(a,b))\n",
    "elif c==3:\n",
    "    print(\"Multiplication is: \",mul(a,b))\n",
    "\n",
    "elif c==4:\n",
    "    print(\"Division is: \",div(a,b))\n",
    "\n",
    "else:\n",
    "    print(\"invalid value\")"
   ]
  },
  {
   "cell_type": "code",
   "execution_count": 32,
   "id": "e140538d",
   "metadata": {},
   "outputs": [
    {
     "name": "stdout",
     "output_type": "stream",
     "text": [
      "Thank you!\n"
     ]
    }
   ],
   "source": [
    "print(\"Thank you!\")"
   ]
  },
  {
   "cell_type": "markdown",
   "id": "2455d09d",
   "metadata": {},
   "source": [
    "*This is the end of making a simple calculator. I hope you liked it!*"
   ]
  }
 ],
 "metadata": {
  "kernelspec": {
   "display_name": "Python 3",
   "language": "python",
   "name": "python3"
  },
  "language_info": {
   "codemirror_mode": {
    "name": "ipython",
    "version": 3
   },
   "file_extension": ".py",
   "mimetype": "text/x-python",
   "name": "python",
   "nbconvert_exporter": "python",
   "pygments_lexer": "ipython3",
   "version": "3.8.8"
  }
 },
 "nbformat": 4,
 "nbformat_minor": 5
}
