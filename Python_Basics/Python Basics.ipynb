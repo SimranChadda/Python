{
 "cells": [
  {
   "cell_type": "markdown",
   "id": "8cdeb99f",
   "metadata": {},
   "source": [
    "# Variables "
   ]
  },
  {
   "cell_type": "code",
   "execution_count": 1,
   "id": "b469bdf6",
   "metadata": {},
   "outputs": [
    {
     "data": {
      "text/plain": [
       "2"
      ]
     },
     "execution_count": 1,
     "metadata": {},
     "output_type": "execute_result"
    }
   ],
   "source": [
    "x= 2 #variables are case-sensitive\n",
    "x"
   ]
  },
  {
   "cell_type": "code",
   "execution_count": 2,
   "id": "4a499f6f",
   "metadata": {},
   "outputs": [
    {
     "data": {
      "text/plain": [
       "4"
      ]
     },
     "execution_count": 2,
     "metadata": {},
     "output_type": "execute_result"
    }
   ],
   "source": [
    "x= x+x  #reassignment of variables can be done in python\n",
    "x"
   ]
  },
  {
   "cell_type": "code",
   "execution_count": 6,
   "id": "948d9ae4",
   "metadata": {},
   "outputs": [
    {
     "data": {
      "text/plain": [
       "'john'"
      ]
     },
     "execution_count": 6,
     "metadata": {},
     "output_type": "execute_result"
    }
   ],
   "source": [
    "_var2= \"john\" #always remember naming rules\n",
    "_var2"
   ]
  },
  {
   "cell_type": "code",
   "execution_count": 19,
   "id": "05a4cd30",
   "metadata": {},
   "outputs": [
    {
     "name": "stdout",
     "output_type": "stream",
     "text": [
      "hi\n"
     ]
    }
   ],
   "source": [
    "\n",
    " \"\"\" Multi-line comment used print(\"Python Comments\") \"\"\" # multi-line comment\n",
    "print(\"hi\")"
   ]
  },
  {
   "cell_type": "code",
   "execution_count": 21,
   "id": "6b123e0f",
   "metadata": {},
   "outputs": [
    {
     "name": "stdout",
     "output_type": "stream",
     "text": [
      " Multi-line comment used print(\"Python Comments\") \n"
     ]
    }
   ],
   "source": [
    "a=  \"\"\" Multi-line comment used print(\"Python Comments\") \"\"\"  #printing multi-line comment by assigning a variable\n",
    "print(a)"
   ]
  },
  {
   "cell_type": "code",
   "execution_count": 24,
   "id": "f4516820",
   "metadata": {},
   "outputs": [
    {
     "name": "stdout",
     "output_type": "stream",
     "text": [
      "stefan elena damon\n"
     ]
    }
   ],
   "source": [
    "x,y,z= \"stefan\",\"elena\",\"damon\" #multiple variables asssigning\n",
    "print(x,y,z)\n",
    "\n",
    "#print(y)\n",
    "#print(z)"
   ]
  },
  {
   "cell_type": "code",
   "execution_count": 25,
   "id": "911edb08",
   "metadata": {},
   "outputs": [
    {
     "name": "stdout",
     "output_type": "stream",
     "text": [
      "elena elena elena\n"
     ]
    }
   ],
   "source": [
    "x=y=z=\"elena\"\n",
    "print(x,y,z)"
   ]
  },
  {
   "cell_type": "code",
   "execution_count": 26,
   "id": "feab2d1e",
   "metadata": {},
   "outputs": [],
   "source": [
    "#global variables"
   ]
  },
  {
   "cell_type": "markdown",
   "id": "6ea2a607",
   "metadata": {},
   "source": [
    "# Datatypes- Integer, Float, Strings and None"
   ]
  },
  {
   "cell_type": "code",
   "execution_count": 27,
   "id": "164333de",
   "metadata": {},
   "outputs": [
    {
     "name": "stdout",
     "output_type": "stream",
     "text": [
      "1\n",
      "1.2\n",
      "1\n"
     ]
    }
   ],
   "source": [
    "x=1\n",
    "y=1.2\n",
    "z=\"1\"\n",
    "print(x)\n",
    "print(y)\n",
    "print(z)"
   ]
  },
  {
   "cell_type": "code",
   "execution_count": 31,
   "id": "f65f9c93",
   "metadata": {},
   "outputs": [
    {
     "data": {
      "text/plain": [
       "str"
      ]
     },
     "execution_count": 31,
     "metadata": {},
     "output_type": "execute_result"
    }
   ],
   "source": [
    "type(z) #which checks datatype \n",
    "\n",
    "#print(type(z))"
   ]
  },
  {
   "cell_type": "code",
   "execution_count": 36,
   "id": "48ba8f44",
   "metadata": {},
   "outputs": [
    {
     "data": {
      "text/plain": [
       "1"
      ]
     },
     "execution_count": 36,
     "metadata": {},
     "output_type": "execute_result"
    }
   ],
   "source": [
    "a= int(y) #typecasting to int\n",
    "          #conversions--> (int to float and vice-versa), (string to int and vice-versa)\n",
    "    \n",
    "a"
   ]
  },
  {
   "cell_type": "code",
   "execution_count": 37,
   "id": "3d9d3fea",
   "metadata": {},
   "outputs": [
    {
     "data": {
      "text/plain": [
       "int"
      ]
     },
     "execution_count": 37,
     "metadata": {},
     "output_type": "execute_result"
    }
   ],
   "source": [
    "type(a)"
   ]
  },
  {
   "cell_type": "code",
   "execution_count": 3,
   "id": "fed80a48",
   "metadata": {},
   "outputs": [
    {
     "name": "stdout",
     "output_type": "stream",
     "text": [
      "enter a number: 2\n",
      "2.0\n"
     ]
    }
   ],
   "source": [
    "a= float(input(\"enter a number: \")) #beaware of taking typecast as int because \n",
    "                                    #if input a float value and want int value,will give error\n",
    "                                    #that's y always recommended to take float as typecast()\n",
    "print(a)"
   ]
  },
  {
   "cell_type": "code",
   "execution_count": 40,
   "id": "0efc9d13",
   "metadata": {},
   "outputs": [
    {
     "data": {
      "text/plain": [
       "6.0"
      ]
     },
     "execution_count": 40,
     "metadata": {},
     "output_type": "execute_result"
    }
   ],
   "source": [
    "var3= \"6.0\"\n",
    "xx= float(var3)\n",
    "xx"
   ]
  },
  {
   "cell_type": "code",
   "execution_count": 41,
   "id": "2b80f976",
   "metadata": {},
   "outputs": [
    {
     "data": {
      "text/plain": [
       "float"
      ]
     },
     "execution_count": 41,
     "metadata": {},
     "output_type": "execute_result"
    }
   ],
   "source": [
    "type(xx)"
   ]
  },
  {
   "cell_type": "code",
   "execution_count": 45,
   "id": "3a06f875",
   "metadata": {},
   "outputs": [
    {
     "data": {
      "text/plain": [
       "'this is a string'"
      ]
     },
     "execution_count": 45,
     "metadata": {},
     "output_type": "execute_result"
    }
   ],
   "source": [
    "a= \"this is a string\"  #printing string , (immutable)\n",
    "a"
   ]
  },
  {
   "cell_type": "code",
   "execution_count": 56,
   "id": "d3edf78e",
   "metadata": {},
   "outputs": [
    {
     "data": {
      "text/plain": [
       "12"
      ]
     },
     "execution_count": 56,
     "metadata": {},
     "output_type": "execute_result"
    }
   ],
   "source": [
    "my_string= \"jihfshfoiuoa\"\n",
    "len(my_string)     #length of string"
   ]
  },
  {
   "cell_type": "code",
   "execution_count": 57,
   "id": "9f520b73",
   "metadata": {},
   "outputs": [
    {
     "data": {
      "text/plain": [
       "8"
      ]
     },
     "execution_count": 57,
     "metadata": {},
     "output_type": "execute_result"
    }
   ],
   "source": [
    "my_string1=\"simran  \" #ACCEPTS WHITE SPACE\n",
    "len(my_string1)"
   ]
  },
  {
   "cell_type": "code",
   "execution_count": 48,
   "id": "267d933e",
   "metadata": {},
   "outputs": [
    {
     "data": {
      "text/plain": [
       "'jihfsh'"
      ]
     },
     "execution_count": 48,
     "metadata": {},
     "output_type": "execute_result"
    }
   ],
   "source": [
    "my_string[0:6]  #accessing string characters"
   ]
  },
  {
   "cell_type": "code",
   "execution_count": 49,
   "id": "5f37e414",
   "metadata": {},
   "outputs": [
    {
     "data": {
      "text/plain": [
       "'jihfshfoiuoa'"
      ]
     },
     "execution_count": 49,
     "metadata": {},
     "output_type": "execute_result"
    }
   ],
   "source": [
    "my_string[:]"
   ]
  },
  {
   "cell_type": "code",
   "execution_count": 51,
   "id": "a081d3e2",
   "metadata": {},
   "outputs": [
    {
     "data": {
      "text/plain": [
       "'jhs'"
      ]
     },
     "execution_count": 51,
     "metadata": {},
     "output_type": "execute_result"
    }
   ],
   "source": [
    "my_string[0:6:2]"
   ]
  },
  {
   "cell_type": "code",
   "execution_count": 53,
   "id": "c3bf49c8",
   "metadata": {},
   "outputs": [
    {
     "data": {
      "text/plain": [
       "'j'"
      ]
     },
     "execution_count": 53,
     "metadata": {},
     "output_type": "execute_result"
    }
   ],
   "source": [
    "my_string[-12] #accessing reverse string character"
   ]
  },
  {
   "cell_type": "code",
   "execution_count": 55,
   "id": "e8dde559",
   "metadata": {},
   "outputs": [
    {
     "data": {
      "text/plain": [
       "'aihh'"
      ]
     },
     "execution_count": 55,
     "metadata": {},
     "output_type": "execute_result"
    }
   ],
   "source": [
    "my_string[::-3] #accessing reversing step characters"
   ]
  },
  {
   "cell_type": "code",
   "execution_count": 60,
   "id": "ea16e540",
   "metadata": {},
   "outputs": [
    {
     "name": "stdout",
     "output_type": "stream",
     "text": [
      "hi!\n",
      " I am Simran Chadda\n"
     ]
    }
   ],
   "source": [
    "my_string=\"hi!\\n I am Simran Chadda\" #can also use \\n or \\t \n",
    "print(my_string)"
   ]
  },
  {
   "cell_type": "code",
   "execution_count": 62,
   "id": "130d05fa",
   "metadata": {},
   "outputs": [
    {
     "name": "stdout",
     "output_type": "stream",
     "text": [
      "simran2\n"
     ]
    }
   ],
   "source": [
    "var1=\"simran\"  #concatenation\n",
    "var2=\"2\"\n",
    "result= var1+var2\n",
    "print(result)"
   ]
  },
  {
   "cell_type": "code",
   "execution_count": 71,
   "id": "f9617320",
   "metadata": {},
   "outputs": [
    {
     "name": "stdout",
     "output_type": "stream",
     "text": [
      "HELLO WORLD\n"
     ]
    }
   ],
   "source": [
    "X= \"hello world\" #some in-built methods of strings (use tab to find more)\n",
    "Z= X.upper()\n",
    "print(Z)"
   ]
  },
  {
   "cell_type": "code",
   "execution_count": 73,
   "id": "5d5839f2",
   "metadata": {},
   "outputs": [
    {
     "data": {
      "text/plain": [
       "['HELLO', 'WORLD']"
      ]
     },
     "execution_count": 73,
     "metadata": {},
     "output_type": "execute_result"
    }
   ],
   "source": [
    "Z.split()"
   ]
  },
  {
   "cell_type": "code",
   "execution_count": 74,
   "id": "2fa5d566",
   "metadata": {},
   "outputs": [
    {
     "data": {
      "text/plain": [
       "['HELLO WORLD']"
      ]
     },
     "execution_count": 74,
     "metadata": {},
     "output_type": "execute_result"
    }
   ],
   "source": [
    "Z.split(\",\")"
   ]
  },
  {
   "cell_type": "code",
   "execution_count": 77,
   "id": "a9a1e955",
   "metadata": {},
   "outputs": [
    {
     "data": {
      "text/plain": [
       "['HE', '', 'O WOR', 'D']"
      ]
     },
     "execution_count": 77,
     "metadata": {},
     "output_type": "execute_result"
    }
   ],
   "source": [
    "Z.split(\"L\") #check on this"
   ]
  },
  {
   "cell_type": "code",
   "execution_count": 75,
   "id": "f4ad8dcc",
   "metadata": {},
   "outputs": [
    {
     "data": {
      "text/plain": [
       "'PELLO WORLD'"
      ]
     },
     "execution_count": 75,
     "metadata": {},
     "output_type": "execute_result"
    }
   ],
   "source": [
    "Z.replace(\"H\",\"P\")"
   ]
  },
  {
   "cell_type": "code",
   "execution_count": 79,
   "id": "c1605157",
   "metadata": {},
   "outputs": [
    {
     "data": {
      "text/plain": [
       "'hi this is shit world speaking'"
      ]
     },
     "execution_count": 79,
     "metadata": {},
     "output_type": "execute_result"
    }
   ],
   "source": [
    "d= \" hi this is shit world speaking    \" #strip() removes extra white spaces\n",
    "d.strip()"
   ]
  },
  {
   "cell_type": "code",
   "execution_count": 82,
   "id": "bee9895f",
   "metadata": {},
   "outputs": [
    {
     "name": "stdout",
     "output_type": "stream",
     "text": [
      " hi this is 20 and my age is simran\n"
     ]
    }
   ],
   "source": [
    "name= 'simran'      #formatting strings, because of indexing, it is not recommended\n",
    "age=20\n",
    "print(\" hi this is {1} and my age is {0}\".format(name,age))"
   ]
  },
  {
   "cell_type": "code",
   "execution_count": 88,
   "id": "04c5cf13",
   "metadata": {},
   "outputs": [
    {
     "name": "stdout",
     "output_type": "stream",
     "text": [
      "hi this is simran and my age is 20\n"
     ]
    }
   ],
   "source": [
    "name=\"simran\"        #f-strings, totally recommended\n",
    "age=20\n",
    "print(f\"hi this is {name} and my age is {age}\")"
   ]
  },
  {
   "cell_type": "code",
   "execution_count": 3,
   "id": "48194e9c",
   "metadata": {},
   "outputs": [
    {
     "data": {
      "text/plain": [
       "NoneType"
      ]
     },
     "execution_count": 3,
     "metadata": {},
     "output_type": "execute_result"
    }
   ],
   "source": [
    "list1= [1,\"sim\",2.5,True, None]  #none is also a datatype\n",
    "type(list1[4])"
   ]
  },
  {
   "cell_type": "markdown",
   "id": "5d6fe4f0",
   "metadata": {},
   "source": [
    "# DataStructures- Lists, Tuples, Dict, Sets, Bool"
   ]
  },
  {
   "cell_type": "code",
   "execution_count": 4,
   "id": "64bed1f9",
   "metadata": {},
   "outputs": [
    {
     "data": {
      "text/plain": [
       "[1, 'sim', 2.7]"
      ]
     },
     "execution_count": 4,
     "metadata": {},
     "output_type": "execute_result"
    }
   ],
   "source": [
    "#how to create an empty list\n",
    "list1= []\n",
    "list1.extend([1,\"sim\",2.7]) #using extend(), we can write multiple values but then have to use list in that case with extend()\n",
    "list1"
   ]
  },
  {
   "cell_type": "code",
   "execution_count": 7,
   "id": "91226c65",
   "metadata": {},
   "outputs": [
    {
     "data": {
      "text/plain": [
       "['simran']"
      ]
     },
     "execution_count": 7,
     "metadata": {},
     "output_type": "execute_result"
    }
   ],
   "source": [
    "list2= []  #will take only 1 argument and cant use list + append at same time as will create double list\n",
    "list2.append(\"simran\")\n",
    "list2"
   ]
  },
  {
   "cell_type": "code",
   "execution_count": 5,
   "id": "3f7b2c51",
   "metadata": {},
   "outputs": [
    {
     "data": {
      "text/plain": [
       "3"
      ]
     },
     "execution_count": 5,
     "metadata": {},
     "output_type": "execute_result"
    }
   ],
   "source": [
    "my_list= [1,\"hi\",2.3] #list is (ordered sequence),(mutable) and holds (variety of object types)\n",
    "len(my_list)"
   ]
  },
  {
   "cell_type": "code",
   "execution_count": 6,
   "id": "ae79b087",
   "metadata": {},
   "outputs": [
    {
     "data": {
      "text/plain": [
       "1"
      ]
     },
     "execution_count": 6,
     "metadata": {},
     "output_type": "execute_result"
    }
   ],
   "source": [
    "my_list[0] #access characters as supports (indexing & slicing)"
   ]
  },
  {
   "cell_type": "code",
   "execution_count": 7,
   "id": "df097dae",
   "metadata": {},
   "outputs": [
    {
     "data": {
      "text/plain": [
       "[1, 'hi']"
      ]
     },
     "execution_count": 7,
     "metadata": {},
     "output_type": "execute_result"
    }
   ],
   "source": [
    "my_list[:2]"
   ]
  },
  {
   "cell_type": "code",
   "execution_count": 8,
   "id": "efb6fd76",
   "metadata": {},
   "outputs": [
    {
     "data": {
      "text/plain": [
       "'hi'"
      ]
     },
     "execution_count": 8,
     "metadata": {},
     "output_type": "execute_result"
    }
   ],
   "source": [
    "my_list[-2]"
   ]
  },
  {
   "cell_type": "code",
   "execution_count": 9,
   "id": "12b42079",
   "metadata": {},
   "outputs": [
    {
     "data": {
      "text/plain": [
       "['hi', 3, 4, 'sim']"
      ]
     },
     "execution_count": 9,
     "metadata": {},
     "output_type": "execute_result"
    }
   ],
   "source": [
    "my_list=[1,3,4,\"sim\"] #mutability\n",
    "my_list[0]= \"hi\"\n",
    "my_list"
   ]
  },
  {
   "cell_type": "code",
   "execution_count": 10,
   "id": "0391f01a",
   "metadata": {},
   "outputs": [
    {
     "data": {
      "text/plain": [
       "[1, 'two', 3.0, 4, 5, 6]"
      ]
     },
     "execution_count": 10,
     "metadata": {},
     "output_type": "execute_result"
    }
   ],
   "source": [
    "my_list1= [1,\"two\",3.0] #concatenation and reassignment\n",
    "my_list2= [4,5,6]\n",
    "result= my_list1+ my_list2\n",
    "result"
   ]
  },
  {
   "cell_type": "code",
   "execution_count": 11,
   "id": "1d6142d6",
   "metadata": {},
   "outputs": [
    {
     "data": {
      "text/plain": [
       "['one', 'two', 'three', 'four', 'five']"
      ]
     },
     "execution_count": 11,
     "metadata": {},
     "output_type": "execute_result"
    }
   ],
   "source": [
    "my_list=[\"one\",\"two\",\"three\",\"four\"] #some bulit-in functions of list\n",
    "my_list.append(\"five\")\n",
    "my_list         "
   ]
  },
  {
   "cell_type": "code",
   "execution_count": 12,
   "id": "9bc27c20",
   "metadata": {},
   "outputs": [],
   "source": [
    "my_list.sort()"
   ]
  },
  {
   "cell_type": "code",
   "execution_count": 13,
   "id": "22623ae6",
   "metadata": {},
   "outputs": [
    {
     "data": {
      "text/plain": [
       "['five', 'four', 'one', 'three', 'two']"
      ]
     },
     "execution_count": 13,
     "metadata": {},
     "output_type": "execute_result"
    }
   ],
   "source": [
    "my_list"
   ]
  },
  {
   "cell_type": "code",
   "execution_count": 14,
   "id": "c4254215",
   "metadata": {},
   "outputs": [
    {
     "data": {
      "text/plain": [
       "'four'"
      ]
     },
     "execution_count": 14,
     "metadata": {},
     "output_type": "execute_result"
    }
   ],
   "source": [
    "result= my_list.pop(1)\n",
    "result"
   ]
  },
  {
   "cell_type": "code",
   "execution_count": 15,
   "id": "3646bbcb",
   "metadata": {},
   "outputs": [
    {
     "data": {
      "text/plain": [
       "['five', 'one', 'three', 'two']"
      ]
     },
     "execution_count": 15,
     "metadata": {},
     "output_type": "execute_result"
    }
   ],
   "source": [
    "my_list"
   ]
  },
  {
   "cell_type": "code",
   "execution_count": 16,
   "id": "06b3ea0d",
   "metadata": {},
   "outputs": [
    {
     "data": {
      "text/plain": [
       "['five', 'one', 'three', 'two']"
      ]
     },
     "execution_count": 16,
     "metadata": {},
     "output_type": "execute_result"
    }
   ],
   "source": [
    "my_list1= my_list\n",
    "my_list1"
   ]
  },
  {
   "cell_type": "code",
   "execution_count": 17,
   "id": "1009bb2f",
   "metadata": {},
   "outputs": [
    {
     "data": {
      "text/plain": [
       "['two', 'three', 'one', 'five']"
      ]
     },
     "execution_count": 17,
     "metadata": {},
     "output_type": "execute_result"
    }
   ],
   "source": [
    "my_list1.reverse()\n",
    "my_list1"
   ]
  },
  {
   "cell_type": "code",
   "execution_count": 27,
   "id": "be3687cc",
   "metadata": {},
   "outputs": [
    {
     "name": "stdout",
     "output_type": "stream",
     "text": [
      "2\n"
     ]
    }
   ],
   "source": [
    "list1= [1,2,3,3]\n",
    "print(list1.count(3))\n"
   ]
  },
  {
   "cell_type": "code",
   "execution_count": 28,
   "id": "0cfc59e8",
   "metadata": {},
   "outputs": [],
   "source": [
    "list1.insert(4,4) #insert method"
   ]
  },
  {
   "cell_type": "code",
   "execution_count": 29,
   "id": "489dbeef",
   "metadata": {},
   "outputs": [
    {
     "data": {
      "text/plain": [
       "[1, 2, 3, 3, 4]"
      ]
     },
     "execution_count": 29,
     "metadata": {},
     "output_type": "execute_result"
    }
   ],
   "source": [
    "list1"
   ]
  },
  {
   "cell_type": "code",
   "execution_count": 32,
   "id": "a35c2d66",
   "metadata": {},
   "outputs": [],
   "source": [
    "list1.remove(3)"
   ]
  },
  {
   "cell_type": "code",
   "execution_count": 33,
   "id": "032e0368",
   "metadata": {},
   "outputs": [
    {
     "data": {
      "text/plain": [
       "[1, 3, 4]"
      ]
     },
     "execution_count": 33,
     "metadata": {},
     "output_type": "execute_result"
    }
   ],
   "source": [
    "list1"
   ]
  },
  {
   "cell_type": "code",
   "execution_count": 82,
   "id": "594201e2",
   "metadata": {},
   "outputs": [
    {
     "data": {
      "text/plain": [
       "[[1, 2, 3], [4, 5, 6], [7, 8, 9]]"
      ]
     },
     "execution_count": 82,
     "metadata": {},
     "output_type": "execute_result"
    }
   ],
   "source": [
    "list_1=[1,2,3]  #nesting list\n",
    "list_2=[4,5,6]\n",
    "list_3=[7,8,9]\n",
    "\n",
    "matrix= [list_1, list_2,list_3]\n",
    "matrix"
   ]
  },
  {
   "cell_type": "code",
   "execution_count": 83,
   "id": "a26aec81",
   "metadata": {},
   "outputs": [
    {
     "data": {
      "text/plain": [
       "[1, 2, 3]"
      ]
     },
     "execution_count": 83,
     "metadata": {},
     "output_type": "execute_result"
    }
   ],
   "source": [
    "matrix[0]"
   ]
  },
  {
   "cell_type": "code",
   "execution_count": 84,
   "id": "83b667ba",
   "metadata": {},
   "outputs": [
    {
     "data": {
      "text/plain": [
       "1"
      ]
     },
     "execution_count": 84,
     "metadata": {},
     "output_type": "execute_result"
    }
   ],
   "source": [
    "matrix[0][0]"
   ]
  },
  {
   "cell_type": "code",
   "execution_count": 22,
   "id": "c67a69ac",
   "metadata": {},
   "outputs": [
    {
     "name": "stdout",
     "output_type": "stream",
     "text": [
      "0 10\n",
      "1 20\n",
      "2 24\n"
     ]
    }
   ],
   "source": [
    "#Enumeration in list- when want toprint indexes as well as values\n",
    "\n",
    "list1= [10,20,24]\n",
    "\n",
    "for i,j in enumerate(list1):\n",
    "    print(i,j)"
   ]
  },
  {
   "cell_type": "code",
   "execution_count": 8,
   "id": "e3c26c69",
   "metadata": {},
   "outputs": [
    {
     "data": {
      "text/plain": [
       "int"
      ]
     },
     "execution_count": 8,
     "metadata": {},
     "output_type": "execute_result"
    }
   ],
   "source": [
    "#tuples\n",
    "a= (1)  #output is integer because tuples is recognised by commas(,)\n",
    "type(a)"
   ]
  },
  {
   "cell_type": "code",
   "execution_count": 9,
   "id": "2c80c2f2",
   "metadata": {},
   "outputs": [
    {
     "data": {
      "text/plain": [
       "tuple"
      ]
     },
     "execution_count": 9,
     "metadata": {},
     "output_type": "execute_result"
    }
   ],
   "source": [
    "a= (1, )\n",
    "type(a)"
   ]
  },
  {
   "cell_type": "code",
   "execution_count": 98,
   "id": "c7bb38da",
   "metadata": {},
   "outputs": [
    {
     "data": {
      "text/plain": [
       "(1, 2, 3)"
      ]
     },
     "execution_count": 98,
     "metadata": {},
     "output_type": "execute_result"
    }
   ],
   "source": [
    "t= (1,2,3) #are similar to lists but are (immutable), (indexing and slicing or reverse), (any object types)\n",
    "t"
   ]
  },
  {
   "cell_type": "code",
   "execution_count": 99,
   "id": "f5b79c92",
   "metadata": {},
   "outputs": [
    {
     "data": {
      "text/plain": [
       "tuple"
      ]
     },
     "execution_count": 99,
     "metadata": {},
     "output_type": "execute_result"
    }
   ],
   "source": [
    "type(t) #cannot be reassigned"
   ]
  },
  {
   "cell_type": "code",
   "execution_count": 100,
   "id": "2033fd11",
   "metadata": {},
   "outputs": [
    {
     "data": {
      "text/plain": [
       "(1, 'sim')"
      ]
     },
     "execution_count": 100,
     "metadata": {},
     "output_type": "execute_result"
    }
   ],
   "source": [
    "t1=(1,\"sim\",6.88)\n",
    "t1[0:2]"
   ]
  },
  {
   "cell_type": "code",
   "execution_count": 103,
   "id": "cc9191a6",
   "metadata": {},
   "outputs": [
    {
     "name": "stdout",
     "output_type": "stream",
     "text": [
      "1\n"
     ]
    }
   ],
   "source": [
    "print(t.count(3))   #some bult-in methods of tuples\n",
    "\n"
   ]
  },
  {
   "cell_type": "code",
   "execution_count": 106,
   "id": "114712eb",
   "metadata": {},
   "outputs": [
    {
     "data": {
      "text/plain": [
       "2"
      ]
     },
     "execution_count": 106,
     "metadata": {},
     "output_type": "execute_result"
    }
   ],
   "source": [
    "t.index(3) #finding index positions located in tuple"
   ]
  },
  {
   "cell_type": "code",
   "execution_count": 112,
   "id": "9a2bc213",
   "metadata": {},
   "outputs": [
    {
     "data": {
      "text/plain": [
       "(1, 2, ('sim', 1.7), (9.5, 0.0), ('hello', (1, 4)))"
      ]
     },
     "execution_count": 112,
     "metadata": {},
     "output_type": "execute_result"
    }
   ],
   "source": [
    "t2= ( 1,2, (\"sim\",1.7), (9.5,0.0), (\"hello\", (1,4)) ) #nesting of tuples\n",
    "t2"
   ]
  },
  {
   "cell_type": "code",
   "execution_count": 113,
   "id": "8ea9e32b",
   "metadata": {},
   "outputs": [
    {
     "data": {
      "text/plain": [
       "('sim', 1.7)"
      ]
     },
     "execution_count": 113,
     "metadata": {},
     "output_type": "execute_result"
    }
   ],
   "source": [
    "t2[2]"
   ]
  },
  {
   "cell_type": "code",
   "execution_count": 114,
   "id": "9577daa3",
   "metadata": {},
   "outputs": [
    {
     "data": {
      "text/plain": [
       "('hello', (1, 4))"
      ]
     },
     "execution_count": 114,
     "metadata": {},
     "output_type": "execute_result"
    }
   ],
   "source": [
    "t2[4]"
   ]
  },
  {
   "cell_type": "code",
   "execution_count": 115,
   "id": "0c8a3a6b",
   "metadata": {},
   "outputs": [
    {
     "data": {
      "text/plain": [
       "(1, 4)"
      ]
     },
     "execution_count": 115,
     "metadata": {},
     "output_type": "execute_result"
    }
   ],
   "source": [
    "t2[4][1]"
   ]
  },
  {
   "cell_type": "code",
   "execution_count": 10,
   "id": "c2381336",
   "metadata": {},
   "outputs": [
    {
     "name": "stdout",
     "output_type": "stream",
     "text": [
      "[1, 2, 'name']\n",
      "(1, 2, 'name')\n"
     ]
    }
   ],
   "source": [
    "#converting list to tuple and vice-versa\n",
    "\n",
    "list1=[1,2,\"name\"]\n",
    "print(list1)\n",
    "tup= tuple(list1)\n",
    "print(tup)"
   ]
  },
  {
   "cell_type": "code",
   "execution_count": 117,
   "id": "e172b7ff",
   "metadata": {},
   "outputs": [
    {
     "data": {
      "text/plain": [
       "set()"
      ]
     },
     "execution_count": 117,
     "metadata": {},
     "output_type": "execute_result"
    }
   ],
   "source": [
    "set1= set() #creating an (empty set) collection of (unordered unique elements)\n",
    "set1"
   ]
  },
  {
   "cell_type": "code",
   "execution_count": 128,
   "id": "ee1be3c1",
   "metadata": {},
   "outputs": [
    {
     "data": {
      "text/plain": [
       "{1, 2}"
      ]
     },
     "execution_count": 128,
     "metadata": {},
     "output_type": "execute_result"
    }
   ],
   "source": [
    "set1.add(1) #adding elements to an empty set\n",
    "set1"
   ]
  },
  {
   "cell_type": "code",
   "execution_count": 129,
   "id": "9c3e61d0",
   "metadata": {},
   "outputs": [
    {
     "data": {
      "text/plain": [
       "{1, 2}"
      ]
     },
     "execution_count": 129,
     "metadata": {},
     "output_type": "execute_result"
    }
   ],
   "source": [
    "set1.add(2)\n",
    "set1"
   ]
  },
  {
   "cell_type": "code",
   "execution_count": 130,
   "id": "0921c90f",
   "metadata": {},
   "outputs": [
    {
     "data": {
      "text/plain": [
       "{1, 2, 3, 4, 5}"
      ]
     },
     "execution_count": 130,
     "metadata": {},
     "output_type": "execute_result"
    }
   ],
   "source": [
    "my_list=[1,1,1,2,3,4,5] #taking only unique elements\n",
    "set(my_list)"
   ]
  },
  {
   "cell_type": "code",
   "execution_count": 134,
   "id": "7532ffdf",
   "metadata": {},
   "outputs": [
    {
     "data": {
      "text/plain": [
       "False"
      ]
     },
     "execution_count": 134,
     "metadata": {},
     "output_type": "execute_result"
    }
   ],
   "source": [
    "a= 1>2 #bool\n",
    "a"
   ]
  },
  {
   "cell_type": "code",
   "execution_count": 135,
   "id": "31791672",
   "metadata": {},
   "outputs": [
    {
     "data": {
      "text/plain": [
       "bool"
      ]
     },
     "execution_count": 135,
     "metadata": {},
     "output_type": "execute_result"
    }
   ],
   "source": [
    "type(a)"
   ]
  },
  {
   "cell_type": "code",
   "execution_count": 136,
   "id": "b50633d4",
   "metadata": {},
   "outputs": [
    {
     "data": {
      "text/plain": [
       "True"
      ]
     },
     "execution_count": 136,
     "metadata": {},
     "output_type": "execute_result"
    }
   ],
   "source": [
    "bool(1)"
   ]
  },
  {
   "cell_type": "code",
   "execution_count": 2,
   "id": "93b24a6f",
   "metadata": {},
   "outputs": [
    {
     "data": {
      "text/plain": [
       "20"
      ]
     },
     "execution_count": 2,
     "metadata": {},
     "output_type": "execute_result"
    }
   ],
   "source": [
    "dict1= {'apple':20,'orange':67.9,'banana':1} #immutable, unordered mapping for storing objects\n",
    "dict1['apple']"
   ]
  },
  {
   "cell_type": "code",
   "execution_count": 3,
   "id": "20501c25",
   "metadata": {},
   "outputs": [
    {
     "data": {
      "text/plain": [
       "1"
      ]
     },
     "execution_count": 3,
     "metadata": {},
     "output_type": "execute_result"
    }
   ],
   "source": [
    "dict1['banana']#accessing values from dictionary"
   ]
  },
  {
   "cell_type": "code",
   "execution_count": 45,
   "id": "54a29730",
   "metadata": {},
   "outputs": [],
   "source": [
    "d2={}   #creating with empty dictionary"
   ]
  },
  {
   "cell_type": "code",
   "execution_count": 46,
   "id": "0170940b",
   "metadata": {},
   "outputs": [],
   "source": [
    "d2['key1']=100"
   ]
  },
  {
   "cell_type": "code",
   "execution_count": 47,
   "id": "754496dd",
   "metadata": {},
   "outputs": [],
   "source": [
    "d2['key2']=200\n"
   ]
  },
  {
   "cell_type": "code",
   "execution_count": 48,
   "id": "447b9976",
   "metadata": {},
   "outputs": [
    {
     "data": {
      "text/plain": [
       "{'key1': 100, 'key2': 200}"
      ]
     },
     "execution_count": 48,
     "metadata": {},
     "output_type": "execute_result"
    }
   ],
   "source": [
    "d2 #can also add new key:values to an existing dictionary"
   ]
  },
  {
   "cell_type": "code",
   "execution_count": 49,
   "id": "d4f7f051",
   "metadata": {},
   "outputs": [
    {
     "data": {
      "text/plain": [
       "dict_keys(['key1', 'key2', 'key3'])"
      ]
     },
     "execution_count": 49,
     "metadata": {},
     "output_type": "execute_result"
    }
   ],
   "source": [
    "d.keys() #some bulit-in methods of dictionary"
   ]
  },
  {
   "cell_type": "code",
   "execution_count": 50,
   "id": "5576bdb4",
   "metadata": {},
   "outputs": [
    {
     "data": {
      "text/plain": [
       "dict_values([20, ['a', 1, 2], {'insidekey': 19}])"
      ]
     },
     "execution_count": 50,
     "metadata": {},
     "output_type": "execute_result"
    }
   ],
   "source": [
    "d.values()"
   ]
  },
  {
   "cell_type": "code",
   "execution_count": 51,
   "id": "8e9bb115",
   "metadata": {},
   "outputs": [
    {
     "data": {
      "text/plain": [
       "dict_items([('key1', 20), ('key2', ['a', 1, 2]), ('key3', {'insidekey': 19})])"
      ]
     },
     "execution_count": 51,
     "metadata": {},
     "output_type": "execute_result"
    }
   ],
   "source": [
    "d.items()"
   ]
  },
  {
   "cell_type": "code",
   "execution_count": 52,
   "id": "ba5da7f2",
   "metadata": {},
   "outputs": [
    {
     "data": {
      "text/plain": [
       "20"
      ]
     },
     "execution_count": 52,
     "metadata": {},
     "output_type": "execute_result"
    }
   ],
   "source": [
    "d= {'key1':20, 'key2':['a',1,2], 'key3':{'insidekey':19} } #nesting of dict\n",
    "d['key1']"
   ]
  },
  {
   "cell_type": "code",
   "execution_count": 53,
   "id": "332584cd",
   "metadata": {},
   "outputs": [
    {
     "data": {
      "text/plain": [
       "2"
      ]
     },
     "execution_count": 53,
     "metadata": {},
     "output_type": "execute_result"
    }
   ],
   "source": [
    "d[\"key2\"][2]"
   ]
  },
  {
   "cell_type": "code",
   "execution_count": 54,
   "id": "caf88968",
   "metadata": {},
   "outputs": [
    {
     "data": {
      "text/plain": [
       "dict_keys(['insidekey'])"
      ]
     },
     "execution_count": 54,
     "metadata": {},
     "output_type": "execute_result"
    }
   ],
   "source": [
    "d[\"key3\"].keys()"
   ]
  },
  {
   "cell_type": "code",
   "execution_count": 55,
   "id": "238d9d96",
   "metadata": {},
   "outputs": [
    {
     "data": {
      "text/plain": [
       "'A'"
      ]
     },
     "execution_count": 55,
     "metadata": {},
     "output_type": "execute_result"
    }
   ],
   "source": [
    " d1= d[\"key2\"][0].upper()\n",
    "d1"
   ]
  },
  {
   "cell_type": "code",
   "execution_count": 60,
   "id": "33d6fe5b",
   "metadata": {},
   "outputs": [
    {
     "name": "stdout",
     "output_type": "stream",
     "text": [
      "0\n"
     ]
    }
   ],
   "source": [
    "\n",
    "print(d2['key1']-100) #py has built-in method of doing self add/sub.\n"
   ]
  },
  {
   "cell_type": "code",
   "execution_count": 24,
   "id": "8b762949",
   "metadata": {},
   "outputs": [
    {
     "data": {
      "text/plain": [
       "{0: 10, 1: 20, 2: 24}"
      ]
     },
     "execution_count": 24,
     "metadata": {},
     "output_type": "execute_result"
    }
   ],
   "source": [
    "#Enumeration in Dictionary\n",
    "\n",
    "dict1= dict(enumerate(list1))\n",
    "dict1"
   ]
  },
  {
   "cell_type": "code",
   "execution_count": null,
   "id": "d5350ed7",
   "metadata": {},
   "outputs": [],
   "source": [
    "#list- mutable, ordered, [], mixed datatype, indexing & slicing, reassignmnet,duplication \n",
    "      #built-in methods- pop(), insert(), remove(), sort(), reverse(),append(),extend(),len(),index()\n",
    "    #pop() - indexing/ default\n",
    "    #empty list[] can be created by append()/extend()\n",
    "     #can also be used with conditional stmts.\n",
    "    \n",
    "     #majorly used"
   ]
  },
  {
   "cell_type": "code",
   "execution_count": null,
   "id": "48270e6a",
   "metadata": {},
   "outputs": [],
   "source": [
    "#tuples- immutable, ordered, (), mixed datatypes, indexing & slicing, no reassignment(modify krke then var m daalna)\n",
    "        #no built-in methods like for adding or removing elements but has index(), count() methods\n",
    "        #empty tuple() cannot be created\n",
    "        \n",
    "        #majorly used"
   ]
  },
  {
   "cell_type": "code",
   "execution_count": null,
   "id": "0770df9b",
   "metadata": {},
   "outputs": [],
   "source": [
    "#sets-unordered(means no reassignment),mutable (as we can add, del elements),no duplication, no sequence(randomly stores value), unique, no indexing/slicing, mixed datatypes\n",
    "    #built-in methods- add(),set() --> constructors, pop(), remove()\n",
    "    #empty set() can be created by add()/ set() with using list...\n",
    "    #del keyword used"
   ]
  },
  {
   "cell_type": "code",
   "execution_count": null,
   "id": "db80485d",
   "metadata": {},
   "outputs": [],
   "source": [
    "#dict-  unordered, key-value pair, mixed datatypes, mutable\n",
    "        #built-in methods- keys(), values(), items(), pop()-->uses keyname to remove item, popitem()-> removes last item\n",
    "        #empty dict{}- a={}\n",
    "        #a['key']=value\n",
    "        #del keyword to delete either whole or removes a keyname\n",
    "        #can be used with conditinal stmts.\n",
    "        "
   ]
  },
  {
   "cell_type": "markdown",
   "id": "e31c5a8e",
   "metadata": {},
   "source": [
    "# Python Operators"
   ]
  },
  {
   "cell_type": "code",
   "execution_count": 63,
   "id": "745a2010",
   "metadata": {},
   "outputs": [
    {
     "data": {
      "text/plain": [
       "3"
      ]
     },
     "execution_count": 63,
     "metadata": {},
     "output_type": "execute_result"
    }
   ],
   "source": [
    "#Arithmetic Operators\n",
    "\n",
    "2+1"
   ]
  },
  {
   "cell_type": "code",
   "execution_count": 64,
   "id": "69d0e64f",
   "metadata": {},
   "outputs": [
    {
     "data": {
      "text/plain": [
       "0.6666666666666666"
      ]
     },
     "execution_count": 64,
     "metadata": {},
     "output_type": "execute_result"
    }
   ],
   "source": [
    "2/3"
   ]
  },
  {
   "cell_type": "code",
   "execution_count": 66,
   "id": "fd80e46c",
   "metadata": {},
   "outputs": [
    {
     "data": {
      "text/plain": [
       "2.0"
      ]
     },
     "execution_count": 66,
     "metadata": {},
     "output_type": "execute_result"
    }
   ],
   "source": [
    "4/2"
   ]
  },
  {
   "cell_type": "code",
   "execution_count": 67,
   "id": "174c5772",
   "metadata": {},
   "outputs": [
    {
     "data": {
      "text/plain": [
       "4"
      ]
     },
     "execution_count": 67,
     "metadata": {},
     "output_type": "execute_result"
    }
   ],
   "source": [
    "2**2 "
   ]
  },
  {
   "cell_type": "code",
   "execution_count": 69,
   "id": "c8e67e06",
   "metadata": {},
   "outputs": [
    {
     "data": {
      "text/plain": [
       "11"
      ]
     },
     "execution_count": 69,
     "metadata": {},
     "output_type": "execute_result"
    }
   ],
   "source": [
    "#Assignment operators\n",
    "a=1\n",
    "a+=10\n",
    "a"
   ]
  },
  {
   "cell_type": "code",
   "execution_count": 70,
   "id": "4bb5b1ed",
   "metadata": {},
   "outputs": [
    {
     "data": {
      "text/plain": [
       "True"
      ]
     },
     "execution_count": 70,
     "metadata": {},
     "output_type": "execute_result"
    }
   ],
   "source": [
    "#comparison operators\n",
    "2.0==2"
   ]
  },
  {
   "cell_type": "code",
   "execution_count": 71,
   "id": "9c38cbd7",
   "metadata": {},
   "outputs": [
    {
     "data": {
      "text/plain": [
       "True"
      ]
     },
     "execution_count": 71,
     "metadata": {},
     "output_type": "execute_result"
    }
   ],
   "source": [
    "1<2"
   ]
  },
  {
   "cell_type": "code",
   "execution_count": 72,
   "id": "2be4d97f",
   "metadata": {},
   "outputs": [
    {
     "data": {
      "text/plain": [
       "False"
      ]
     },
     "execution_count": 72,
     "metadata": {},
     "output_type": "execute_result"
    }
   ],
   "source": [
    "2<1"
   ]
  },
  {
   "cell_type": "code",
   "execution_count": 73,
   "id": "b76000c6",
   "metadata": {},
   "outputs": [
    {
     "data": {
      "text/plain": [
       "True"
      ]
     },
     "execution_count": 73,
     "metadata": {},
     "output_type": "execute_result"
    }
   ],
   "source": [
    "#logical operators\n",
    "'h'=='h'and 1==1"
   ]
  },
  {
   "cell_type": "code",
   "execution_count": 74,
   "id": "312a95de",
   "metadata": {},
   "outputs": [
    {
     "data": {
      "text/plain": [
       "True"
      ]
     },
     "execution_count": 74,
     "metadata": {},
     "output_type": "execute_result"
    }
   ],
   "source": [
    "100==1 or 2==2"
   ]
  },
  {
   "cell_type": "code",
   "execution_count": 75,
   "id": "3da9bc1b",
   "metadata": {},
   "outputs": [
    {
     "data": {
      "text/plain": [
       "False"
      ]
     },
     "execution_count": 75,
     "metadata": {},
     "output_type": "execute_result"
    }
   ],
   "source": [
    "not(1==1)"
   ]
  },
  {
   "cell_type": "code",
   "execution_count": 76,
   "id": "f9dd923d",
   "metadata": {},
   "outputs": [
    {
     "name": "stdout",
     "output_type": "stream",
     "text": [
      "True\n"
     ]
    }
   ],
   "source": [
    "#membership operators--> (in and not in)\n",
    "x= 'geeks for geeks'\n",
    "print('g' in x)"
   ]
  },
  {
   "cell_type": "code",
   "execution_count": 78,
   "id": "8ca74827",
   "metadata": {},
   "outputs": [
    {
     "name": "stdout",
     "output_type": "stream",
     "text": [
      "False\n"
     ]
    }
   ],
   "source": [
    "#special operators--> (is and is not)\n",
    "a1=3\n",
    "b1=3\n",
    "a2='hi'\n",
    "b2='hi'\n",
    "print(a2 is not b2)"
   ]
  },
  {
   "cell_type": "code",
   "execution_count": 79,
   "id": "279ac5f9",
   "metadata": {},
   "outputs": [
    {
     "name": "stdout",
     "output_type": "stream",
     "text": [
      "1\n"
     ]
    }
   ],
   "source": [
    "#bitwise\n",
    "x=5   \n",
    "y=3\n",
    "print(x&y)"
   ]
  },
  {
   "cell_type": "code",
   "execution_count": 80,
   "id": "1acae196",
   "metadata": {},
   "outputs": [
    {
     "name": "stdout",
     "output_type": "stream",
     "text": [
      "7\n"
     ]
    }
   ],
   "source": [
    "x=5\n",
    "y=3\n",
    "print(x|y)"
   ]
  },
  {
   "cell_type": "markdown",
   "id": "3e1e2a82",
   "metadata": {},
   "source": [
    "# Conditional Statements"
   ]
  },
  {
   "cell_type": "code",
   "execution_count": 81,
   "id": "67967c94",
   "metadata": {},
   "outputs": [
    {
     "name": "stdout",
     "output_type": "stream",
     "text": [
      "money is cool\n"
     ]
    }
   ],
   "source": [
    "loc= 'bank'\n",
    "if loc== 'autoshop': #note- no brackets used \n",
    "    print(\"cars are cool\")\n",
    "elif loc== 'bank':\n",
    "    print(\"money is cool\")\n",
    "elif loc== 'store':\n",
    "    print('welcome to store')\n",
    "else:\n",
    "    print(\"I dont know much!\")  #else is always optional. Python can work with one if or if and elif statements also"
   ]
  },
  {
   "cell_type": "code",
   "execution_count": 1,
   "id": "b2c43046",
   "metadata": {},
   "outputs": [
    {
     "name": "stdout",
     "output_type": "stream",
     "text": [
      "0\n",
      "1\n",
      "2\n",
      "3\n",
      "4\n",
      "5\n",
      "6\n",
      "7\n",
      "8\n",
      "9\n",
      "out of loop\n"
     ]
    }
   ],
   "source": [
    "for i in range(10): #for loop and while loop can work directly with else \n",
    "    print(i)\n",
    "else:\n",
    "    print(\"out of loop\")"
   ]
  },
  {
   "cell_type": "code",
   "execution_count": 83,
   "id": "4360628d",
   "metadata": {},
   "outputs": [
    {
     "name": "stdout",
     "output_type": "stream",
     "text": [
      "1\n",
      "2\n",
      "2\n",
      "4\n",
      "5\n"
     ]
    }
   ],
   "source": [
    "#for loop             for loop is used where we can iterate over sequence objects- strings, numbers, list, dict, tuples....\n",
    "\n",
    "items=[1,2,2,4,5]\n",
    "for i in items:\n",
    "    print(i)"
   ]
  },
  {
   "cell_type": "code",
   "execution_count": 85,
   "id": "1995e5b0",
   "metadata": {},
   "outputs": [
    {
     "name": "stdout",
     "output_type": "stream",
     "text": [
      "(1, 2)\n",
      "(3, 4)\n",
      "(5, 6)\n"
     ]
    }
   ],
   "source": [
    "my_list=[(1,2),(3,4),(5,6)]\n",
    "for i in my_list:\n",
    "    print(i)"
   ]
  },
  {
   "cell_type": "code",
   "execution_count": 86,
   "id": "d91b297b",
   "metadata": {},
   "outputs": [
    {
     "name": "stdout",
     "output_type": "stream",
     "text": [
      "1\n",
      "2\n",
      "3\n",
      "4\n",
      "5\n",
      "6\n"
     ]
    }
   ],
   "source": [
    "for (a,b) in my_list: #tuple unpacking\n",
    "    print (a)\n",
    "    print(b)"
   ]
  },
  {
   "cell_type": "code",
   "execution_count": 87,
   "id": "f262c41e",
   "metadata": {},
   "outputs": [
    {
     "data": {
      "text/plain": [
       "{1: 'k1', 2: 'k2'}"
      ]
     },
     "execution_count": 87,
     "metadata": {},
     "output_type": "execute_result"
    }
   ],
   "source": [
    "d={1:'k1',2:'k2'}\n",
    "d"
   ]
  },
  {
   "cell_type": "code",
   "execution_count": 88,
   "id": "c49075cd",
   "metadata": {},
   "outputs": [
    {
     "name": "stdout",
     "output_type": "stream",
     "text": [
      "1\n",
      "2\n"
     ]
    }
   ],
   "source": [
    "for i in d:\n",
    "    print(i)"
   ]
  },
  {
   "cell_type": "code",
   "execution_count": 90,
   "id": "c7efedb0",
   "metadata": {},
   "outputs": [
    {
     "name": "stdout",
     "output_type": "stream",
     "text": [
      "(1, 'k1')\n",
      "(2, 'k2')\n"
     ]
    }
   ],
   "source": [
    "for i in d.items():\n",
    "    print(i)"
   ]
  },
  {
   "cell_type": "code",
   "execution_count": 92,
   "id": "37827bd5",
   "metadata": {},
   "outputs": [
    {
     "name": "stdout",
     "output_type": "stream",
     "text": [
      "k1\n",
      "k2\n"
     ]
    }
   ],
   "source": [
    "for key, value in d.items(): #dict unpacking\n",
    "    print(value)"
   ]
  },
  {
   "cell_type": "code",
   "execution_count": 97,
   "id": "c1e0d352",
   "metadata": {},
   "outputs": [
    {
     "name": "stdout",
     "output_type": "stream",
     "text": [
      "value of x is  0\n",
      "value of x is  1\n",
      "value of x is  2\n",
      "value of x is  3\n",
      "value of x is  4\n"
     ]
    }
   ],
   "source": [
    "#while loop       can also use break, continue when neccessary\n",
    "x=0            \n",
    "while x<5:\n",
    "    print(\"value of x is \",x)\n",
    "    x=x+1"
   ]
  },
  {
   "cell_type": "markdown",
   "id": "5cd37af6",
   "metadata": {},
   "source": [
    "# Functions- User- Defined and Predefined (print, type,input, max,pow..)"
   ]
  },
  {
   "cell_type": "code",
   "execution_count": 2,
   "id": "03f7d563",
   "metadata": {},
   "outputs": [
    {
     "name": "stdout",
     "output_type": "stream",
     "text": [
      "hello\n"
     ]
    }
   ],
   "source": [
    "#SIMPLE CALLING FUNCTIONS\n",
    "\n",
    "def my_fun(): #function definition\n",
    "    print(\"hello\")\n",
    "my_fun()    #calling function"
   ]
  },
  {
   "cell_type": "code",
   "execution_count": 5,
   "id": "72c10002",
   "metadata": {},
   "outputs": [
    {
     "name": "stdout",
     "output_type": "stream",
     "text": [
      "hi this is simran\n"
     ]
    }
   ],
   "source": [
    "#with arguments\n",
    "\n",
    "name= \"simran\"\n",
    "\n",
    "def my_func(name):\n",
    "    print(\"hi this is\",name)\n",
    "    \n",
    "my_func(name)"
   ]
  },
  {
   "cell_type": "code",
   "execution_count": 2,
   "id": "abe7336d",
   "metadata": {},
   "outputs": [
    {
     "name": "stdout",
     "output_type": "stream",
     "text": [
      "python\n"
     ]
    }
   ],
   "source": [
    "def name(book):\n",
    "    print(book)\n",
    "    \n",
    "name('python')    "
   ]
  },
  {
   "cell_type": "code",
   "execution_count": 4,
   "id": "ec173de0",
   "metadata": {},
   "outputs": [
    {
     "name": "stdout",
     "output_type": "stream",
     "text": [
      "value of d [10, 20, 30]\n",
      "new value of d [99, 98, 30]\n"
     ]
    }
   ],
   "source": [
    "#call by reference\n",
    "\n",
    "c=[10,20,30]\n",
    "\n",
    "def fun(d):\n",
    "    print('value of d',d)\n",
    "    d[0]=99\n",
    "    d[1]=98\n",
    "    print('new value of d',d)\n",
    "    \n",
    "fun(c)"
   ]
  },
  {
   "cell_type": "code",
   "execution_count": 7,
   "id": "08f1fd35",
   "metadata": {},
   "outputs": [
    {
     "name": "stdout",
     "output_type": "stream",
     "text": [
      "hi this is simran\n"
     ]
    }
   ],
   "source": [
    "def my_func(name=\"simran\"):   #with arguments using f-strings\n",
    "    print(f\"hi this is {name}\")\n",
    "my_func()"
   ]
  },
  {
   "cell_type": "code",
   "execution_count": 12,
   "id": "d6123a72",
   "metadata": {},
   "outputs": [
    {
     "name": "stdout",
     "output_type": "stream",
     "text": [
      "30\n"
     ]
    }
   ],
   "source": [
    "#return statements- is used to exit function & go back to place from where it is called \n",
    "                    # Or to let function return a value\n",
    "def my_fun(num1,num2):\n",
    "    \n",
    "    return num1+num2\n",
    "\n",
    "result= my_fun(num1=10,num2=20)\n",
    "print(result)"
   ]
  },
  {
   "cell_type": "code",
   "execution_count": 16,
   "id": "e448e0bd",
   "metadata": {},
   "outputs": [
    {
     "name": "stdout",
     "output_type": "stream",
     "text": [
      "25\n",
      "30\n"
     ]
    },
    {
     "data": {
      "text/plain": [
       "30"
      ]
     },
     "execution_count": 16,
     "metadata": {},
     "output_type": "execute_result"
    }
   ],
   "source": [
    "#global and local variables\n",
    "\n",
    "x=25\n",
    "def my_func():\n",
    "    x=30\n",
    "    return x\n",
    "\n",
    "print(x)\n",
    "print(my_func())\n",
    "my_func() #print statement not used but will give output as it is jupyter"
   ]
  },
  {
   "cell_type": "code",
   "execution_count": 19,
   "id": "9c33b4b1",
   "metadata": {},
   "outputs": [
    {
     "name": "stdout",
     "output_type": "stream",
     "text": [
      "hellosam\n",
      "global\n"
     ]
    }
   ],
   "source": [
    "#nested functions\n",
    "name= \"global\"\n",
    "\n",
    "def greet():\n",
    "    name=\"sam\"\n",
    "    \n",
    "    def hello():\n",
    "        print('hello'+name)\n",
    "    hello()\n",
    "\n",
    "greet()\n",
    "print(name)"
   ]
  },
  {
   "cell_type": "code",
   "execution_count": 20,
   "id": "ec678e4d",
   "metadata": {},
   "outputs": [
    {
     "name": "stdout",
     "output_type": "stream",
     "text": [
      "helloglobal\n"
     ]
    }
   ],
   "source": [
    "name= \"global\"\n",
    "\n",
    "def greet():\n",
    "    \n",
    "    \n",
    "    def hello():\n",
    "        print('hello'+name)\n",
    "    hello()\n",
    "\n",
    "greet()\n"
   ]
  },
  {
   "cell_type": "code",
   "execution_count": 21,
   "id": "b4d84621",
   "metadata": {},
   "outputs": [
    {
     "name": "stdout",
     "output_type": "stream",
     "text": [
      "sim\n",
      "helloglobal\n"
     ]
    }
   ],
   "source": [
    "name= \"global\"\n",
    "\n",
    "def greet():\n",
    "    print('sim')\n",
    "    \n",
    "    def hello():\n",
    "        print('hello'+name)\n",
    "    hello()\n",
    "\n",
    "greet()"
   ]
  },
  {
   "cell_type": "code",
   "execution_count": 22,
   "id": "a30999dc",
   "metadata": {},
   "outputs": [
    {
     "name": "stdout",
     "output_type": "stream",
     "text": [
      "x is 50\n",
      "local changed to  91\n",
      "50\n"
     ]
    }
   ],
   "source": [
    "x=50\n",
    "def fun(x):\n",
    "    print('x is',x)\n",
    "    \n",
    "    x=91\n",
    "    print('local changed to ', x)\n",
    "\n",
    "fun(x)\n",
    "print(x)\n"
   ]
  },
  {
   "cell_type": "code",
   "execution_count": 27,
   "id": "79242af8",
   "metadata": {},
   "outputs": [
    {
     "name": "stdout",
     "output_type": "stream",
     "text": [
      "50\n",
      "x is  91\n"
     ]
    }
   ],
   "source": [
    "x=50\n",
    "def fun():\n",
    "    \n",
    "    global x\n",
    "    x=91\n",
    "   \n",
    "    print('x is ', x)\n",
    "\n",
    "\n",
    "print(x)\n",
    "fun()"
   ]
  },
  {
   "cell_type": "code",
   "execution_count": 28,
   "id": "fe473610",
   "metadata": {},
   "outputs": [
    {
     "name": "stdout",
     "output_type": "stream",
     "text": [
      "x is  50\n",
      "after function call x is:  91\n"
     ]
    }
   ],
   "source": [
    "x=50  #tricky\n",
    "def fun():\n",
    "    \n",
    "   \n",
    "    x=91\n",
    "    return x\n",
    "   \n",
    "print('x is ', x)\n",
    "\n",
    "\n",
    "x= fun()\n",
    "\n",
    "print('after function call x is: ',x)"
   ]
  },
  {
   "cell_type": "code",
   "execution_count": 6,
   "id": "db46f2d5",
   "metadata": {},
   "outputs": [
    {
     "name": "stdout",
     "output_type": "stream",
     "text": [
      "10\n"
     ]
    }
   ],
   "source": [
    "#lambda Expressions- only 1 statement can be used and 1 expression be used\n",
    "#can be used with functions also\n",
    "\n",
    "x= lambda a:a+9\n",
    "\n",
    "print(x(1))\n"
   ]
  },
  {
   "cell_type": "code",
   "execution_count": 8,
   "id": "ff9a48ac",
   "metadata": {},
   "outputs": [
    {
     "name": "stdout",
     "output_type": "stream",
     "text": [
      "3\n"
     ]
    }
   ],
   "source": [
    "a= lambda x,y: x+y\n",
    "\n",
    "print(a(2,1))"
   ]
  },
  {
   "cell_type": "code",
   "execution_count": 9,
   "id": "ad978336",
   "metadata": {},
   "outputs": [
    {
     "name": "stdout",
     "output_type": "stream",
     "text": [
      "4\n"
     ]
    }
   ],
   "source": [
    "def fun(n):\n",
    "    return lambda a:a*n\n",
    "\n",
    "double= fun(2)\n",
    "print(double(2))"
   ]
  },
  {
   "cell_type": "code",
   "execution_count": 29,
   "id": "ff4dfe55",
   "metadata": {},
   "outputs": [
    {
     "name": "stdout",
     "output_type": "stream",
     "text": [
      "value of num1: 4\n",
      "value of num2: 3\n",
      "addition is:  7\n",
      "subtraction is:  1\n",
      "multiplication is:  12\n"
     ]
    }
   ],
   "source": [
    "#simple calculator\n",
    "\n",
    "a= int(input(\"value of num1: \"))\n",
    "b= int(input(\"value of num2: \"))\n",
    "\n",
    "def myfun(a,b):\n",
    "    add= a+b\n",
    "    sub= a-b\n",
    "    mul= a*b\n",
    "    \n",
    "    return add, sub, mul\n",
    "\n",
    "add, sub, mul= myfun(a,b) #multiple values can be assigned\n",
    "\n",
    "print(\"addition is: \",add)\n",
    "print(\"subtraction is: \",sub)\n",
    "print(\"multiplication is: \",mul)"
   ]
  },
  {
   "cell_type": "markdown",
   "id": "931783bb",
   "metadata": {},
   "source": [
    "# Classes and Objects"
   ]
  },
  {
   "cell_type": "code",
   "execution_count": 11,
   "id": "3ac06e47",
   "metadata": {},
   "outputs": [
    {
     "name": "stdout",
     "output_type": "stream",
     "text": [
      "is 8gb\n"
     ]
    }
   ],
   "source": [
    "#class- A blueprint from which specific objects are created (what is gonna happen and how it is created)\n",
    "#object- Collection of data(variables) & methods(function) that act on those data\n",
    "\n",
    "class Computer:\n",
    "    def config(self):#invokes and is method which tells whether to take arg. or not\n",
    "        print('is','8gb')\n",
    "        \n",
    "com1= Computer()\n",
    "com1.config()"
   ]
  },
  {
   "cell_type": "code",
   "execution_count": 16,
   "id": "0f041dcb",
   "metadata": {},
   "outputs": [
    {
     "name": "stdout",
     "output_type": "stream",
     "text": [
      "config is 8gb 1tb\n",
      "config is 2gb 2tb\n"
     ]
    }
   ],
   "source": [
    "class Computer:\n",
    "    \n",
    "    def __init__(self,ram,HD):\n",
    "        self.ram= ram\n",
    "        self.HD= HD\n",
    "        \n",
    "    def config(self):\n",
    "        print('config is',self.ram,self.HD)\n",
    "        \n",
    "com1= Computer('8gb','1tb')\n",
    "com2= Computer('2gb','2tb')\n",
    "\n",
    "com1.config()\n",
    "com2.config()"
   ]
  },
  {
   "cell_type": "code",
   "execution_count": 19,
   "id": "a317763d",
   "metadata": {},
   "outputs": [
    {
     "name": "stdout",
     "output_type": "stream",
     "text": [
      "weight is 71\n",
      "weight is 70\n"
     ]
    }
   ],
   "source": [
    "class Robot:\n",
    "     def __init__(self,name,color,weight):\n",
    "        self.name= name\n",
    "        self.color= color\n",
    "        self.weight= weight\n",
    "    \n",
    "     def intro(self):\n",
    "        print('weight is',self.weight)\n",
    "        \n",
    "r1= Robot('sim','blue','71')\n",
    "r2= Robot('sim','green','70')\n",
    "\n",
    "r1.intro()\n",
    "r2.intro()"
   ]
  },
  {
   "cell_type": "markdown",
   "id": "e21095a4",
   "metadata": {},
   "source": [
    "# Exception Handling"
   ]
  },
  {
   "cell_type": "markdown",
   "id": "f4926db2",
   "metadata": {},
   "source": [
    "Syntax Error Or Exception"
   ]
  },
  {
   "cell_type": "code",
   "execution_count": 1,
   "id": "9ce80e8f",
   "metadata": {},
   "outputs": [],
   "source": [
    "#syntax error- means syntactical error in a code\n",
    "\n",
    "#Exception error- means logical error, not acceptable. If not timely corrected, then code might get crashed. \n",
    "\n",
    "                #So, to handle thiswe use exception handling"
   ]
  },
  {
   "cell_type": "code",
   "execution_count": 4,
   "id": "89db52ea",
   "metadata": {},
   "outputs": [
    {
     "ename": "SyntaxError",
     "evalue": "unmatched ')' (<ipython-input-4-065eb79a1b46>, line 3)",
     "output_type": "error",
     "traceback": [
      "\u001b[1;36m  File \u001b[1;32m\"<ipython-input-4-065eb79a1b46>\"\u001b[1;36m, line \u001b[1;32m3\u001b[0m\n\u001b[1;33m    print(0/0))\u001b[0m\n\u001b[1;37m              ^\u001b[0m\n\u001b[1;31mSyntaxError\u001b[0m\u001b[1;31m:\u001b[0m unmatched ')'\n"
     ]
    }
   ],
   "source": [
    "#syntax error\n",
    "\n",
    "print(0/0))"
   ]
  },
  {
   "cell_type": "code",
   "execution_count": 3,
   "id": "e614768e",
   "metadata": {},
   "outputs": [
    {
     "ename": "ZeroDivisionError",
     "evalue": "division by zero",
     "output_type": "error",
     "traceback": [
      "\u001b[1;31m---------------------------------------------------------------------------\u001b[0m",
      "\u001b[1;31mZeroDivisionError\u001b[0m                         Traceback (most recent call last)",
      "\u001b[1;32m<ipython-input-3-67e88e78e653>\u001b[0m in \u001b[0;36m<module>\u001b[1;34m\u001b[0m\n\u001b[0;32m      1\u001b[0m \u001b[1;31m#exception\u001b[0m\u001b[1;33m\u001b[0m\u001b[1;33m\u001b[0m\u001b[1;33m\u001b[0m\u001b[0m\n\u001b[1;32m----> 2\u001b[1;33m \u001b[0mprint\u001b[0m\u001b[1;33m(\u001b[0m\u001b[1;36m0\u001b[0m\u001b[1;33m/\u001b[0m\u001b[1;36m0\u001b[0m\u001b[1;33m)\u001b[0m\u001b[1;33m\u001b[0m\u001b[1;33m\u001b[0m\u001b[0m\n\u001b[0m",
      "\u001b[1;31mZeroDivisionError\u001b[0m: division by zero"
     ]
    }
   ],
   "source": [
    "#exception\n",
    "\n",
    "print(0/0)"
   ]
  },
  {
   "cell_type": "code",
   "execution_count": null,
   "id": "e5145dc3",
   "metadata": {},
   "outputs": [],
   "source": [
    "#try....except---> CUSTOMISED\n",
    "\n",
    "#try- means that you being not sure about code..you think that there can be some error in code so, you try that code\n",
    "\n",
    "#except- means that if the code in try block has some errors it will go to an except block, and excpet block will catch \n",
    "        #and handle that error\n",
    "\n",
    "try:\n",
    "    \n",
    "    a= int(input(\"value of N: \"))\n",
    "    b= int(input(\"value of D: \"))\n",
    "\n",
    "    ans= a/b\n",
    "    print(ans)\n",
    "\n",
    "except:\n",
    "    print(\"Numerator cannot be divided by zero\")\n",
    "\n",
    "print(\"program ends\")"
   ]
  },
  {
   "cell_type": "code",
   "execution_count": 6,
   "id": "cd275a28",
   "metadata": {},
   "outputs": [
    {
     "name": "stdout",
     "output_type": "stream",
     "text": [
      "value of N: 10\n",
      "value of D: 0\n"
     ]
    },
    {
     "ename": "NameError",
     "evalue": "name 'ZeroDivisonError' is not defined",
     "output_type": "error",
     "traceback": [
      "\u001b[1;31m---------------------------------------------------------------------------\u001b[0m",
      "\u001b[1;31mZeroDivisionError\u001b[0m                         Traceback (most recent call last)",
      "\u001b[1;32m<ipython-input-6-b69b6162edb4>\u001b[0m in \u001b[0;36m<module>\u001b[1;34m\u001b[0m\n\u001b[0;32m      8\u001b[0m \u001b[1;33m\u001b[0m\u001b[0m\n\u001b[1;32m----> 9\u001b[1;33m     \u001b[0mans\u001b[0m\u001b[1;33m=\u001b[0m \u001b[0ma\u001b[0m\u001b[1;33m/\u001b[0m\u001b[0mb\u001b[0m\u001b[1;33m\u001b[0m\u001b[1;33m\u001b[0m\u001b[0m\n\u001b[0m\u001b[0;32m     10\u001b[0m     \u001b[0mprint\u001b[0m\u001b[1;33m(\u001b[0m\u001b[0mans\u001b[0m\u001b[1;33m)\u001b[0m\u001b[1;33m\u001b[0m\u001b[1;33m\u001b[0m\u001b[0m\n",
      "\u001b[1;31mZeroDivisionError\u001b[0m: division by zero",
      "\nDuring handling of the above exception, another exception occurred:\n",
      "\u001b[1;31mNameError\u001b[0m                                 Traceback (most recent call last)",
      "\u001b[1;32m<ipython-input-6-b69b6162edb4>\u001b[0m in \u001b[0;36m<module>\u001b[1;34m\u001b[0m\n\u001b[0;32m     10\u001b[0m     \u001b[0mprint\u001b[0m\u001b[1;33m(\u001b[0m\u001b[0mans\u001b[0m\u001b[1;33m)\u001b[0m\u001b[1;33m\u001b[0m\u001b[1;33m\u001b[0m\u001b[0m\n\u001b[0;32m     11\u001b[0m \u001b[1;33m\u001b[0m\u001b[0m\n\u001b[1;32m---> 12\u001b[1;33m \u001b[1;32mexcept\u001b[0m \u001b[0mZeroDivisonError\u001b[0m\u001b[1;33m:\u001b[0m\u001b[1;33m\u001b[0m\u001b[1;33m\u001b[0m\u001b[0m\n\u001b[0m\u001b[0;32m     13\u001b[0m     \u001b[0mprint\u001b[0m\u001b[1;33m(\u001b[0m\u001b[1;34m\"Numerator cannot be divided by zero\"\u001b[0m\u001b[1;33m)\u001b[0m\u001b[1;33m\u001b[0m\u001b[1;33m\u001b[0m\u001b[0m\n\u001b[0;32m     14\u001b[0m \u001b[1;33m\u001b[0m\u001b[0m\n",
      "\u001b[1;31mNameError\u001b[0m: name 'ZeroDivisonError' is not defined"
     ]
    }
   ],
   "source": [
    "#specific exception---> for multiple exception lines\n",
    "\n",
    "\n",
    "try:\n",
    "    \n",
    "    a= int(input(\"value of N: \"))\n",
    "    b= int(input(\"value of D: \"))\n",
    "\n",
    "    ans= a/b\n",
    "    print(ans)\n",
    "\n",
    "except ZeroDivisonError:\n",
    "    print(\"Numerator cannot be divided by zero\")\n",
    "    \n",
    "except IndexError:   \n",
    "     print(\"Index cannot be greater than the list\")\n",
    "\n",
    "print(\"program ends\")        "
   ]
  },
  {
   "cell_type": "code",
   "execution_count": 8,
   "id": "facea4f3",
   "metadata": {},
   "outputs": [
    {
     "name": "stdout",
     "output_type": "stream",
     "text": [
      "value of N: 20\n",
      "value of D: 10\n",
      "2.0\n",
      "code running successfully\n",
      "program ends\n"
     ]
    }
   ],
   "source": [
    "#try....except....else\n",
    "\n",
    "#else- if except did not find any errors it means that code written in try block is fine so to process futher it will \n",
    "       #go into else block\n",
    "    \n",
    "    \n",
    "try:\n",
    "    \n",
    "    a= int(input(\"value of N: \"))\n",
    "    b= int(input(\"value of D: \"))\n",
    "\n",
    "    ans= a/b\n",
    "    print(ans)\n",
    "\n",
    "except ZeroDivisonError:\n",
    "    print(\"Numerator cannot be divided by zero\")\n",
    "    \n",
    "    \n",
    "else:\n",
    "    print(\"code running successfully\")\n",
    "    \n",
    "print(\"program ends\")    "
   ]
  },
  {
   "cell_type": "code",
   "execution_count": 9,
   "id": "8c8de2bb",
   "metadata": {},
   "outputs": [
    {
     "name": "stdout",
     "output_type": "stream",
     "text": [
      "value of N: 20\n",
      "value of D: 10\n",
      "2.0\n",
      "code running successfully\n",
      "program ends\n"
     ]
    }
   ],
   "source": [
    "#try....except....else....finally\n",
    "\n",
    "\n",
    "#finally- always prints, no matters what. Moreover, its used for cleanup operation\n",
    "\n",
    "try:\n",
    "    \n",
    "    a= int(input(\"value of N: \"))\n",
    "    b= int(input(\"value of D: \"))\n",
    "\n",
    "    ans= a/b\n",
    "    print(ans)\n",
    "\n",
    "except ZeroDivisonError:\n",
    "    print(\"Numerator cannot be divided by zero\")\n",
    "    \n",
    "    \n",
    "else:\n",
    "    print(\"code running successfully\")\n",
    "    \n",
    "finally:\n",
    "    print(\"program ends\")\n",
    "\n",
    "    \n",
    "        "
   ]
  },
  {
   "cell_type": "code",
   "execution_count": 16,
   "id": "e1916ce8",
   "metadata": {},
   "outputs": [
    {
     "ename": "AssertionError",
     "evalue": "this code runs in windows only",
     "output_type": "error",
     "traceback": [
      "\u001b[1;31m---------------------------------------------------------------------------\u001b[0m",
      "\u001b[1;31mAssertionError\u001b[0m                            Traceback (most recent call last)",
      "\u001b[1;32m<ipython-input-16-c65a116be488>\u001b[0m in \u001b[0;36m<module>\u001b[1;34m\u001b[0m\n\u001b[0;32m      2\u001b[0m \u001b[1;33m\u001b[0m\u001b[0m\n\u001b[0;32m      3\u001b[0m \u001b[1;32mimport\u001b[0m \u001b[0msys\u001b[0m\u001b[1;33m\u001b[0m\u001b[1;33m\u001b[0m\u001b[0m\n\u001b[1;32m----> 4\u001b[1;33m \u001b[1;32massert\u001b[0m \u001b[1;33m(\u001b[0m\u001b[1;34m'linux'\u001b[0m\u001b[1;32min\u001b[0m \u001b[0msys\u001b[0m\u001b[1;33m.\u001b[0m\u001b[0mplatform\u001b[0m\u001b[1;33m)\u001b[0m\u001b[1;33m,\u001b[0m\u001b[1;34m\"this code runs in windows only\"\u001b[0m\u001b[1;33m\u001b[0m\u001b[1;33m\u001b[0m\u001b[0m\n\u001b[0m\u001b[0;32m      5\u001b[0m \u001b[1;33m\u001b[0m\u001b[0m\n",
      "\u001b[1;31mAssertionError\u001b[0m: this code runs in windows only"
     ]
    }
   ],
   "source": [
    "#assert exception- checks if condition is true\n",
    "\n",
    "import sys\n",
    "assert ('linux'in sys.platform),\"this code runs in windows only\"#--> otherwise output will be printed if cond. is False.\n",
    "\n"
   ]
  },
  {
   "cell_type": "code",
   "execution_count": 19,
   "id": "695c48ef",
   "metadata": {},
   "outputs": [
    {
     "name": "stdout",
     "output_type": "stream",
     "text": [
      "value of N: 2\n",
      "2\n"
     ]
    }
   ],
   "source": [
    "#raise exception- allows to throw exception at any time\n",
    "\n",
    "a= int(input(\"value of N: \"))\n",
    "if a>5:\n",
    "    raise Exception('value should not exceed 5. The value of a was{}'.format(a))\n",
    "else:\n",
    "    print(a)\n"
   ]
  },
  {
   "cell_type": "markdown",
   "id": "b4527de2",
   "metadata": {},
   "source": [
    "# Files"
   ]
  },
  {
   "cell_type": "markdown",
   "id": "e9888eb9",
   "metadata": {},
   "source": [
    "OPERATIONS THAT YOU CAN PERFORM IN FILES\n",
    "\n",
    "Creating a file (x)\n",
    "\n",
    "Opening a file (open()) \n",
    "\n",
    "Reading a file (r)\n",
    "\n",
    "Writing a file (w)\n",
    "\n",
    "Appending a file (a)\n",
    "\n",
    "Closing a file (close())\n"
   ]
  },
  {
   "cell_type": "code",
   "execution_count": 53,
   "id": "d800535e",
   "metadata": {},
   "outputs": [
    {
     "data": {
      "text/plain": [
       "<_io.TextIOWrapper name='random.txt' mode='w+' encoding='cp1252'>"
      ]
     },
     "execution_count": 53,
     "metadata": {},
     "output_type": "execute_result"
    }
   ],
   "source": [
    "#Opening a file\n",
    "\n",
    "z= open(\"random.txt\",\"w+\")\n",
    "z"
   ]
  },
  {
   "cell_type": "code",
   "execution_count": 54,
   "id": "f3baf443",
   "metadata": {},
   "outputs": [],
   "source": [
    "#Reading a file\n",
    "\n",
    "z= open(\"random.txt\",\"r\")\n",
    "z.close()   #closing a file"
   ]
  },
  {
   "cell_type": "code",
   "execution_count": 55,
   "id": "a17d1831",
   "metadata": {},
   "outputs": [
    {
     "data": {
      "text/plain": [
       "14"
      ]
     },
     "execution_count": 55,
     "metadata": {},
     "output_type": "execute_result"
    }
   ],
   "source": [
    "#writing a file\n",
    "\n",
    "z= open(\"random.txt\",\"w\")\n",
    "z.write(\"I love myself!\")"
   ]
  },
  {
   "cell_type": "code",
   "execution_count": 56,
   "id": "88359844",
   "metadata": {},
   "outputs": [
    {
     "name": "stdout",
     "output_type": "stream",
     "text": [
      "I love myself!\n"
     ]
    }
   ],
   "source": [
    "#Again, opening a file for what you have written\n",
    "\n",
    "z= open(\"random.txt\",\"r\")\n",
    "print(z.read())  #for reading whole "
   ]
  },
  {
   "cell_type": "code",
   "execution_count": 57,
   "id": "4c1a8d1e",
   "metadata": {},
   "outputs": [
    {
     "name": "stdout",
     "output_type": "stream",
     "text": [
      "I lov\n"
     ]
    }
   ],
   "source": [
    "z= open(\"random.txt\",\"r\")\n",
    "print(z.read(5)) #for reading characters"
   ]
  },
  {
   "cell_type": "code",
   "execution_count": 58,
   "id": "dfb2bae3",
   "metadata": {},
   "outputs": [
    {
     "data": {
      "text/plain": [
       "12"
      ]
     },
     "execution_count": 58,
     "metadata": {},
     "output_type": "execute_result"
    }
   ],
   "source": [
    "#Appending a file\n",
    "\n",
    "z= open(\"random.txt\",\"a\")\n",
    "z.write(\" I am a hero\")\n"
   ]
  },
  {
   "cell_type": "code",
   "execution_count": 59,
   "id": "9fa98d76",
   "metadata": {},
   "outputs": [
    {
     "data": {
      "text/plain": [
       "'I love myself! I am a hero'"
      ]
     },
     "execution_count": 59,
     "metadata": {},
     "output_type": "execute_result"
    }
   ],
   "source": [
    "#Again, opening a file for what you have written in existing file\n",
    "\n",
    "z= open(\"random.txt\",\"r\")\n",
    "z.read()\n",
    "\n",
    "#if you try to write again (w), then whatever you have written in existing file will get erased again..."
   ]
  },
  {
   "cell_type": "markdown",
   "id": "e4792531",
   "metadata": {},
   "source": [
    "closing a file is must. so, you need to have a proper implication for that-\n",
    "\n",
    "1. try...finally\n",
    "2. with"
   ]
  },
  {
   "cell_type": "code",
   "execution_count": 60,
   "id": "379166cf",
   "metadata": {},
   "outputs": [
    {
     "name": "stdout",
     "output_type": "stream",
     "text": [
      "I love myself! I am a hero I am a rockstar\n"
     ]
    }
   ],
   "source": [
    "try: #in try block, you can do anything read, write, append and using finally close that file\n",
    "    \n",
    "    \n",
    "    z= open(\"random.txt\",\"a\")\n",
    "    z.write(\" I am a rockstar\")\n",
    "    z= open(\"random.txt\",\"r\")\n",
    "    print(z.read())\n",
    "    \n",
    "finally:\n",
    "    z.close()\n",
    "    "
   ]
  },
  {
   "cell_type": "code",
   "execution_count": 61,
   "id": "6c91a104",
   "metadata": {},
   "outputs": [],
   "source": [
    "with open(\"random.txt\") as z: #here also, you can do read, write, append and then by default it will close that file\n",
    "    \n",
    "      data= z.read()"
   ]
  },
  {
   "cell_type": "code",
   "execution_count": 62,
   "id": "115080f1",
   "metadata": {},
   "outputs": [],
   "source": [
    "with open(\"random.txt\",\"a\") as z: #Then, you can go to file and automatically check it there\n",
    "    z.write(\"I got my rock moves!\")"
   ]
  },
  {
   "cell_type": "markdown",
   "id": "f8b3493d",
   "metadata": {},
   "source": [
    "Conversion from list to text and text to list is done below"
   ]
  },
  {
   "cell_type": "code",
   "execution_count": 63,
   "id": "9ba0c77f",
   "metadata": {},
   "outputs": [
    {
     "name": "stdout",
     "output_type": "stream",
     "text": [
      "['I', 'love', 'myself!', 'I', 'am', 'a', 'hero', 'I', 'am', 'a', 'rockstarI', 'got', 'my', 'rock', 'moves!']\n"
     ]
    }
   ],
   "source": [
    "#conversion of text to list\n",
    "\n",
    "with open(\"random.txt\") as z: \n",
    "    data= z.readlines() #it will read each word whatever is written in text file\n",
    "    for line in data:\n",
    "        word= line.split()\n",
    "        print(word)\n",
    "    "
   ]
  },
  {
   "cell_type": "code",
   "execution_count": 64,
   "id": "9c0d0e67",
   "metadata": {},
   "outputs": [],
   "source": [
    "#conversion of list to text\n",
    "\n",
    "with open(\"random.txt\",\"a\") as z: \n",
    "    list1=[\"heyy baby\"]\n",
    "    z.writelines(list1)"
   ]
  },
  {
   "cell_type": "code",
   "execution_count": 66,
   "id": "bf88615d",
   "metadata": {},
   "outputs": [
    {
     "name": "stdout",
     "output_type": "stream",
     "text": [
      "I love myself! I am a hero I am a rockstarI got my rock moves!heyy baby\n"
     ]
    }
   ],
   "source": [
    "with open(\"random.txt\",\"r\") as z: \n",
    "    print(z.read())"
   ]
  },
  {
   "cell_type": "code",
   "execution_count": null,
   "id": "279f0033",
   "metadata": {},
   "outputs": [],
   "source": []
  }
 ],
 "metadata": {
  "kernelspec": {
   "display_name": "Python 3",
   "language": "python",
   "name": "python3"
  },
  "language_info": {
   "codemirror_mode": {
    "name": "ipython",
    "version": 3
   },
   "file_extension": ".py",
   "mimetype": "text/x-python",
   "name": "python",
   "nbconvert_exporter": "python",
   "pygments_lexer": "ipython3",
   "version": "3.8.8"
  }
 },
 "nbformat": 4,
 "nbformat_minor": 5
}
